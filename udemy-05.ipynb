{
 "cells": [
  {
   "cell_type": "code",
   "execution_count": null,
   "metadata": {},
   "outputs": [],
   "source": [
    "#Superdense coding. Parecido com o quantum teleportation mas agora enviamos 2 bits usando 1 qubit"
   ]
  },
  {
   "cell_type": "code",
   "execution_count": 21,
   "metadata": {},
   "outputs": [],
   "source": [
    "from qiskit import Aer, QuantumCircuit, execute"
   ]
  },
  {
   "cell_type": "code",
   "execution_count": 16,
   "metadata": {},
   "outputs": [],
   "source": [
    "def create_bell_pair(qc,a,b):\n",
    "    qc.h(a)\n",
    "    qc.cx(a,b)"
   ]
  },
  {
   "cell_type": "code",
   "execution_count": 17,
   "metadata": {},
   "outputs": [],
   "source": [
    "def encode_message(qc,qubit,msg):\n",
    "    if msg == \"00\":\n",
    "        pass\n",
    "    elif msg == \"01\":\n",
    "        qc.x(qubit)\n",
    "    elif msg == \"10\":\n",
    "        qc.z(qubit)\n",
    "    elif msg == \"11\":\n",
    "        qc.x(qubit)\n",
    "        qc.z(qubit)\n"
   ]
  },
  {
   "cell_type": "code",
   "execution_count": 18,
   "metadata": {},
   "outputs": [],
   "source": [
    "def decode_message(qc,a,b):\n",
    "    qc.cx(a,b)\n",
    "    qc.h(a)"
   ]
  },
  {
   "cell_type": "code",
   "execution_count": 19,
   "metadata": {},
   "outputs": [
    {
     "data": {
      "image/png": "[encoded data removed]",
      "text/plain": [
       "<Figure size 998.442x284.278 with 1 Axes>"
      ]
     },
     "execution_count": 19,
     "metadata": {},
     "output_type": "execute_result"
    }
   ],
   "source": [
    "qc = QuantumCircuit(2)\n",
    "\n",
    "create_bell_pair(qc,0,1)\n",
    "qc.barrier()\n",
    "\n",
    "message = \"10\"\n",
    "\n",
    "encode_message(qc,0,message)\n",
    "qc.barrier()\n",
    "\n",
    "decode_message(qc,0,1)\n",
    "\n",
    "qc.measure_all()\n",
    "\n",
    "qc.draw('mpl')\n"
   ]
  },
  {
   "cell_type": "code",
   "execution_count": 20,
   "metadata": {},
   "outputs": [
    {
     "name": "stdout",
     "output_type": "stream",
     "text": [
      "{'01': 1000}\n"
     ]
    }
   ],
   "source": [
    "backend = Aer.get_backend('qasm_simulator')\n",
    "job = execute(qc,backend,shots=1000)\n",
    "result=  job.result()\n",
    "counts = result.get_counts(qc)\n",
    "\n",
    "print(counts) #lembre que o qiskit inverte os bits"
   ]
  }
 ],
 "metadata": {
  "kernelspec": {
   "display_name": "Python 3",
   "language": "python",
   "name": "python3"
  },
  "language_info": {
   "codemirror_mode": {
    "name": "ipython",
    "version": 3
   },
   "file_extension": ".py",
   "mimetype": "text/x-python",
   "name": "python",
   "nbconvert_exporter": "python",
   "pygments_lexer": "ipython3",
   "version": "3.10.9"
  },
  "orig_nbformat": 4,
  "vscode": {
   "interpreter": {
    "hash": "80837a4672544e46fe839ae4efecdae0cdba0f2c8053ddc757ba48375af0fa87"
   }
  }
 },
 "nbformat": 4,
 "nbformat_minor": 2
}
