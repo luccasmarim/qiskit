{
 "cells": [
  {
   "cell_type": "markdown",
   "metadata": {},
   "source": [
    "# Simon's Algorithm with Qiskit"
   ]
  },
  {
   "cell_type": "code",
   "execution_count": 1,
   "metadata": {},
   "outputs": [],
   "source": [
    "# Importing standard Qiskit libraries\n",
    "from qiskit import QuantumCircuit, execute, Aer\n",
    "from qiskit.visualization import plot_histogram"
   ]
  },
  {
   "cell_type": "code",
   "execution_count": 2,
   "metadata": {},
   "outputs": [],
   "source": [
    "# Set our secret string to ‘10’\n",
    "s = '10'\n",
    "\n",
    "# Creating registers\n",
    "# Set the input qubit register size equal to the length of s\n",
    "input_qubits = len(str(s))\n",
    "# Set the total qubits equal to twice the size of input qubits\n",
    "total_qubits = 2*input_qubits\n",
    "\n",
    "# Create the quantum circuit\n",
    "qc = QuantumCircuit(total_qubits,input_qubits)"
   ]
  },
  {
   "cell_type": "code",
   "execution_count": 3,
   "metadata": {},
   "outputs": [
    {
     "data": {
      "image/png": "[encoded data removed]",
      "text/plain": [
       "<Figure size 568.197x325.08 with 1 Axes>"
      ]
     },
     "execution_count": 3,
     "metadata": {},
     "output_type": "execute_result"
    }
   ],
   "source": [
    "# Apply Hadamard gates before querying the oracle\n",
    "qc.h(range(input_qubits)) \n",
    "qc.barrier()\n",
    "\n",
    "# Create the oracle function of our secret string \n",
    "# Since we are only setting the first qubit to be 1, \n",
    "# we will only apply cx gates to the first qubit. \n",
    "for idx in range(input_qubits):\n",
    "    if(s[idx] == '1'):\n",
    "        for count in range(input_qubits):\n",
    "            qc.cx(idx, input_qubits + count)\n",
    "\n",
    "qc.barrier()\n",
    "\n",
    "# Apply Hadamard gates to the input register\n",
    "qc.h(range(len(str(s))))\n",
    "\n",
    "# Measure ancilla qubits\n",
    "qc.measure([0,1],[0,1])\n",
    "\n",
    "qc.draw('mpl')"
   ]
  },
  {
   "cell_type": "code",
   "execution_count": 4,
   "metadata": {},
   "outputs": [
    {
     "name": "stdout",
     "output_type": "stream",
     "text": [
      "Counts:  {'00': 513, '01': 487}\n"
     ]
    },
    {
     "data": {
      "image/png": "[encoded data removed]",
      "text/plain": [
       "<Figure size 504x360 with 1 Axes>"
      ]
     },
     "execution_count": 4,
     "metadata": {},
     "output_type": "execute_result"
    }
   ],
   "source": [
    "# Execute the quantum circuit on the simulator\n",
    "backend = Aer.get_backend('qasm_simulator')\n",
    "shots = 1000\n",
    "results = execute(qc, backend=backend, shots=shots).result()\n",
    "counts = results.get_counts(qc)\n",
    "\n",
    "# Print results\n",
    "print('Counts: ', counts)\n",
    "\n",
    "# Plot Histogram of Probabilities\n",
    "plot_histogram(counts)"
   ]
  },
  {
   "cell_type": "markdown",
   "metadata": {},
   "source": [
    "As we can see in the preceding graph, we have two input register results - **00** and **01**- for our secret string (s=10). String values are reversed in Qiskit, so **01** is actaully '10', our secret string. If we had only '00' as the result then this would have meant that f is a one-to-one function. This would have been possible if s='00'. Since we have s='10' so we know that f is a two-to-one function. "
   ]
  },
  {
   "cell_type": "markdown",
   "metadata": {},
   "source": [
    "## Unitary Matrix for the Oracle Function of our Secret String s=10"
   ]
  },
  {
   "cell_type": "code",
   "execution_count": 5,
   "metadata": {},
   "outputs": [
    {
     "name": "stdout",
     "output_type": "stream",
     "text": [
      "[[1.+0.j 0.+0.j 0.+0.j 0.+0.j 0.+0.j 0.+0.j 0.+0.j 0.+0.j 0.+0.j 0.+0.j\n",
      "  0.+0.j 0.+0.j 0.+0.j 0.+0.j 0.+0.j 0.+0.j]\n",
      " [0.+0.j 0.+0.j 0.+0.j 0.+0.j 0.+0.j 0.+0.j 0.+0.j 0.+0.j 0.+0.j 0.+0.j\n",
      "  0.+0.j 0.+0.j 0.+0.j 1.+0.j 0.+0.j 0.+0.j]\n",
      " [0.+0.j 0.+0.j 1.+0.j 0.+0.j 0.+0.j 0.+0.j 0.+0.j 0.+0.j 0.+0.j 0.+0.j\n",
      "  0.+0.j 0.+0.j 0.+0.j 0.+0.j 0.+0.j 0.+0.j]\n",
      " [0.+0.j 0.+0.j 0.+0.j 0.+0.j 0.+0.j 0.+0.j 0.+0.j 0.+0.j 0.+0.j 0.+0.j\n",
      "  0.+0.j 0.+0.j 0.+0.j 0.+0.j 0.+0.j 1.+0.j]\n",
      " [0.+0.j 0.+0.j 0.+0.j 0.+0.j 1.+0.j 0.+0.j 0.+0.j 0.+0.j 0.+0.j 0.+0.j\n",
      "  0.+0.j 0.+0.j 0.+0.j 0.+0.j 0.+0.j 0.+0.j]\n",
      " [0.+0.j 0.+0.j 0.+0.j 0.+0.j 0.+0.j 0.+0.j 0.+0.j 0.+0.j 0.+0.j 1.+0.j\n",
      "  0.+0.j 0.+0.j 0.+0.j 0.+0.j 0.+0.j 0.+0.j]\n",
      " [0.+0.j 0.+0.j 0.+0.j 0.+0.j 0.+0.j 0.+0.j 1.+0.j 0.+0.j 0.+0.j 0.+0.j\n",
      "  0.+0.j 0.+0.j 0.+0.j 0.+0.j 0.+0.j 0.+0.j]\n",
      " [0.+0.j 0.+0.j 0.+0.j 0.+0.j 0.+0.j 0.+0.j 0.+0.j 0.+0.j 0.+0.j 0.+0.j\n",
      "  0.+0.j 1.+0.j 0.+0.j 0.+0.j 0.+0.j 0.+0.j]\n",
      " [0.+0.j 0.+0.j 0.+0.j 0.+0.j 0.+0.j 0.+0.j 0.+0.j 0.+0.j 1.+0.j 0.+0.j\n",
      "  0.+0.j 0.+0.j 0.+0.j 0.+0.j 0.+0.j 0.+0.j]\n",
      " [0.+0.j 0.+0.j 0.+0.j 0.+0.j 0.+0.j 1.+0.j 0.+0.j 0.+0.j 0.+0.j 0.+0.j\n",
      "  0.+0.j 0.+0.j 0.+0.j 0.+0.j 0.+0.j 0.+0.j]\n",
      " [0.+0.j 0.+0.j 0.+0.j 0.+0.j 0.+0.j 0.+0.j 0.+0.j 0.+0.j 0.+0.j 0.+0.j\n",
      "  1.+0.j 0.+0.j 0.+0.j 0.+0.j 0.+0.j 0.+0.j]\n",
      " [0.+0.j 0.+0.j 0.+0.j 0.+0.j 0.+0.j 0.+0.j 0.+0.j 1.+0.j 0.+0.j 0.+0.j\n",
      "  0.+0.j 0.+0.j 0.+0.j 0.+0.j 0.+0.j 0.+0.j]\n",
      " [0.+0.j 0.+0.j 0.+0.j 0.+0.j 0.+0.j 0.+0.j 0.+0.j 0.+0.j 0.+0.j 0.+0.j\n",
      "  0.+0.j 0.+0.j 1.+0.j 0.+0.j 0.+0.j 0.+0.j]\n",
      " [0.+0.j 1.+0.j 0.+0.j 0.+0.j 0.+0.j 0.+0.j 0.+0.j 0.+0.j 0.+0.j 0.+0.j\n",
      "  0.+0.j 0.+0.j 0.+0.j 0.+0.j 0.+0.j 0.+0.j]\n",
      " [0.+0.j 0.+0.j 0.+0.j 0.+0.j 0.+0.j 0.+0.j 0.+0.j 0.+0.j 0.+0.j 0.+0.j\n",
      "  0.+0.j 0.+0.j 0.+0.j 0.+0.j 1.+0.j 0.+0.j]\n",
      " [0.+0.j 0.+0.j 0.+0.j 1.+0.j 0.+0.j 0.+0.j 0.+0.j 0.+0.j 0.+0.j 0.+0.j\n",
      "  0.+0.j 0.+0.j 0.+0.j 0.+0.j 0.+0.j 0.+0.j]]\n"
     ]
    }
   ],
   "source": [
    "#Changing the simulator \n",
    "backend = Aer.get_backend('unitary_simulator')\n",
    "\n",
    "# Set our secret string to ‘10’\n",
    "shh = '10'\n",
    "\n",
    "# Creating registers\n",
    "# Set the input qubit register size equal to the length of s\n",
    "input_qubits = len(str(shh))\n",
    "# Set the total qubits equal to twice the size of input qubits\n",
    "total_qubits = 2*input_qubits\n",
    "\n",
    "# Create the quantum circuit\n",
    "unitary = QuantumCircuit(total_qubits)\n",
    "\n",
    "#The circuit without measurement\n",
    "for idx in range(input_qubits):\n",
    "    if(shh[idx] == '1'):\n",
    "        for count in range(input_qubits):\n",
    "            unitary.cx(idx, input_qubits + count)\n",
    "\n",
    "#job execution and getting the result as an object\n",
    "job = execute(unitary, backend)\n",
    "result = job.result()\n",
    "\n",
    "#get the unitary matrix from the result object\n",
    "print(result.get_unitary(unitary, decimals=3))"
   ]
  },
  {
   "cell_type": "code",
   "execution_count": 6,
   "metadata": {},
   "outputs": [
    {
     "data": {
      "image/png": "[encoded data removed]",
      "text/plain": [
       "<Figure size 206.997x264.88 with 1 Axes>"
      ]
     },
     "execution_count": 6,
     "metadata": {},
     "output_type": "execute_result"
    }
   ],
   "source": [
    "unitary.draw('mpl')"
   ]
  },
  {
   "cell_type": "markdown",
   "metadata": {},
   "source": [
    "## Obtaining state of the quantum circuit at a particular instant"
   ]
  },
  {
   "cell_type": "code",
   "execution_count": 7,
   "metadata": {},
   "outputs": [
    {
     "name": "stdout",
     "output_type": "stream",
     "text": [
      "\n",
      "Quantum state is: [0.5+0.j 0. +0.j 0.5+0.j 0. +0.j 0. +0.j 0. +0.j 0. +0.j 0. +0.j 0. +0.j\n",
      " 0. +0.j 0. +0.j 0. +0.j 0. +0.j 0.5+0.j 0. +0.j 0.5+0.j]\n"
     ]
    }
   ],
   "source": [
    "# Set our secret string to ‘011’\n",
    "shh = '10'\n",
    "\n",
    "# Creating registers\n",
    "# Set the input qubit register size equal to the length of s\n",
    "input_qubits = len(str(shh))\n",
    "# Set the total qubits equal to twice the size of input qubits\n",
    "total_qubits = 2*input_qubits\n",
    "\n",
    "# Create the quantum circuit\n",
    "qc = QuantumCircuit(total_qubits, total_qubits)\n",
    "\n",
    "\n",
    "# Apply Hadamard gates before querying the oracle\n",
    "qc.h(range(input_qubits)) \n",
    "qc.barrier()\n",
    "\n",
    "# Create the oracle function of our secret string \n",
    "# Since we are only setting the first qubit to be 1, \n",
    "# we will only apply cx gates to the first qubit. \n",
    "for idx in range(input_qubits):\n",
    "    if(shh[idx] == '1'):\n",
    "        for count in range(input_qubits):\n",
    "            qc.cx(idx, input_qubits + count)\n",
    "\n",
    "qc.barrier()\n",
    "\n",
    "\n",
    "\n",
    "# To get the eigenvector you should use the statevector simulator in the core of the circuit (without measurements)\n",
    "backend = Aer.get_backend('statevector_simulator')\n",
    "\n",
    "# Execute the circuit\n",
    "result = execute(qc, backend).result().get_statevector(qc, decimals=3)\n",
    "\n",
    "# Printing the state after Z gate\n",
    "print(\"\\nQuantum state is:\",result)"
   ]
  }
 ],
 "metadata": {
  "kernelspec": {
   "display_name": "Python 3",
   "language": "python",
   "name": "python3"
  },
  "language_info": {
   "codemirror_mode": {
    "name": "ipython",
    "version": 3
   },
   "file_extension": ".py",
   "mimetype": "text/x-python",
   "name": "python",
   "nbconvert_exporter": "python",
   "pygments_lexer": "ipython3",
   "version": "3.8.8"
  }
 },
 "nbformat": 4,
 "nbformat_minor": 4
}
