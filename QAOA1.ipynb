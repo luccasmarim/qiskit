{
 "cells": [
  {
   "cell_type": "code",
   "execution_count": 1,
   "metadata": {},
   "outputs": [],
   "source": [
    "from jax.config import config\n",
    "config.update(\"jax_enable_x64\", True)\n",
    "\n",
    "import optax\n",
    "import jax\n",
    "import jax.numpy as jnp\n",
    "import pennylane as qml\n",
    "\n",
    "#numpy precisa estar em 1.23 (o problema foi que o optax mudou a versão do numpy)"
   ]
  },
  {
   "cell_type": "code",
   "execution_count": 2,
   "metadata": {},
   "outputs": [
    {
     "name": "stdout",
     "output_type": "stream",
     "text": [
      "  (1) [X0]\n",
      "+ (1) [Z1]\n",
      "+ (0.5) [X0 X1]\n"
     ]
    }
   ],
   "source": [
    "H = qml.Hamiltonian(\n",
    "    [1, 1, 0.5],\n",
    "    [qml.PauliX(0), qml.PauliZ(1), qml.PauliX(0) @ qml.PauliX(1)]\n",
    ")\n",
    "print(H)"
   ]
  },
  {
   "cell_type": "code",
   "execution_count": 3,
   "metadata": {},
   "outputs": [
    {
     "name": "stdout",
     "output_type": "stream",
     "text": [
      "0: ──RX(1.00)─╭RXX(0.50)──RX(1.00)─╭RXX(0.50)─┤  <Z>\n",
      "1: ──RZ(1.00)─╰RXX(0.50)──RZ(1.00)─╰RXX(0.50)─┤  <Z>\n"
     ]
    }
   ],
   "source": [
    "dev = qml.device('default.qubit', wires=2)\n",
    "\n",
    "t = 1\n",
    "n = 2\n",
    "\n",
    "@qml.qnode(dev)\n",
    "def circuit():\n",
    "    qml.ApproxTimeEvolution(H, t, n)\n",
    "    return [qml.expval(qml.PauliZ(i)) for i in range(2)]\n",
    "\n",
    "print(qml.draw(circuit, expansion_strategy='device')())"
   ]
  },
  {
   "cell_type": "code",
   "execution_count": 4,
   "metadata": {},
   "outputs": [],
   "source": [
    "def circ(theta):\n",
    "    qml.RX(theta, wires=0)\n",
    "    qml.Hadamard(wires=1)\n",
    "    qml.CNOT(wires=[0, 1])\n",
    "\n",
    "# @qml.qnode(dev)\n",
    "# def circuit(param):\n",
    "#     circ(param)\n",
    "#     return [qml.expval(qml.PauliZ(i)) for i in range(2)]\n",
    "\n",
    "# print(qml.draw(circuit)(0.5))"
   ]
  },
  {
   "cell_type": "code",
   "execution_count": 5,
   "metadata": {},
   "outputs": [
    {
     "name": "stdout",
     "output_type": "stream",
     "text": [
      "0: ──RX(0.30)─╭●──RX(0.40)─╭●──RX(0.50)─╭●─┤  <Z>\n",
      "1: ──H────────╰X──H────────╰X──H────────╰X─┤  <Z>\n"
     ]
    }
   ],
   "source": [
    "@qml.qnode(dev)\n",
    "def circuit(params, **kwargs):\n",
    "    qml.layer(circ, 3, params)\n",
    "    return [qml.expval(qml.PauliZ(i)) for i in range(2)]\n",
    "\n",
    "print(qml.draw(circuit)([0.3, 0.4, 0.5]))"
   ]
  },
  {
   "cell_type": "code",
   "execution_count": 6,
   "metadata": {},
   "outputs": [],
   "source": [
    "from pennylane import qaoa\n",
    "from pennylane import numpy as np\n",
    "from matplotlib import pyplot as plt\n",
    "import networkx as nx"
   ]
  },
  {
   "cell_type": "code",
   "execution_count": 7,
   "metadata": {},
   "outputs": [
    {
     "data": {
      "image/png": "[encoded data removed]",
      "text/plain": [
       "<Figure size 640x480 with 1 Axes>"
      ]
     },
     "metadata": {},
     "output_type": "display_data"
    }
   ],
   "source": [
    "edges = [(0, 1), (1, 2), (2, 0), (2, 3)]\n",
    "graph = nx.Graph(edges)\n",
    "\n",
    "nx.draw(graph, with_labels=True)\n",
    "plt.show()"
   ]
  },
  {
   "cell_type": "code",
   "execution_count": 8,
   "metadata": {},
   "outputs": [
    {
     "name": "stdout",
     "output_type": "stream",
     "text": [
      "Cost Hamiltonian   (-0.25) [Z3]\n",
      "+ (0.5) [Z0]\n",
      "+ (0.5) [Z1]\n",
      "+ (1.25) [Z2]\n",
      "+ (0.75) [Z0 Z1]\n",
      "+ (0.75) [Z0 Z2]\n",
      "+ (0.75) [Z1 Z2]\n",
      "+ (0.75) [Z2 Z3]\n",
      "Mixer Hamiltonian   (1) [X0]\n",
      "+ (1) [X1]\n",
      "+ (1) [X2]\n",
      "+ (1) [X3]\n"
     ]
    }
   ],
   "source": [
    "cost_h, mixer_h = qaoa.min_vertex_cover(graph, constrained=False)\n",
    "\n",
    "print(\"Cost Hamiltonian\", cost_h)\n",
    "print(\"Mixer Hamiltonian\", mixer_h)"
   ]
  },
  {
   "cell_type": "code",
   "execution_count": 9,
   "metadata": {},
   "outputs": [],
   "source": [
    "def qaoa_layer(gamma, alpha):\n",
    "    qaoa.cost_layer(gamma, cost_h)\n",
    "    qaoa.mixer_layer(alpha, mixer_h)"
   ]
  },
  {
   "cell_type": "code",
   "execution_count": 10,
   "metadata": {},
   "outputs": [],
   "source": [
    "# Circuito principal\n",
    "\n",
    "wires = range(4)\n",
    "depth = 2\n",
    "\n",
    "def circuit(params, **kwargs):\n",
    "    for w in wires:\n",
    "        qml.Hadamard(wires=w)\n",
    "    qml.layer(qaoa_layer, depth, params[0], params[1])"
   ]
  },
  {
   "cell_type": "code",
   "execution_count": 11,
   "metadata": {},
   "outputs": [],
   "source": [
    "dev = qml.device(\"qulacs.simulator\", wires=wires)   #adicionar gpu=True\n",
    "# precisa instalar o qulacs:  pip install qulacs\n",
    "\n",
    "@qml.qnode(dev, interface=\"jax\")   # @qml.qnode(dev, interface = \"jax\")\n",
    "def cost_function(params):\n",
    "    circuit(params)\n",
    "    return qml.expval(cost_h)"
   ]
  },
  {
   "cell_type": "code",
   "execution_count": 12,
   "metadata": {},
   "outputs": [
    {
     "name": "stderr",
     "output_type": "stream",
     "text": [
      "No GPU/TPU found, falling back to CPU. (Set TF_CPP_MIN_LOG_LEVEL=0 and rerun for more info.)\n"
     ]
    }
   ],
   "source": [
    "optimizer = optax.adam(learning_rate=0.01)\n",
    "steps = 70\n",
    "params = jnp.array([[0.5, 0.5], [0.5, 0.5]])\n",
    "\n",
    "# params = np.array([[0.5, 0.5], [0.5, 0.5]], requires_grad=True)"
   ]
  },
  {
   "cell_type": "code",
   "execution_count": 14,
   "metadata": {},
   "outputs": [
    {
     "name": "stdout",
     "output_type": "stream",
     "text": [
      "[[0.5 0.5]\n",
      " [0.5 0.5]]\n"
     ]
    },
    {
     "ename": "AttributeError",
     "evalue": "module 'jax' has no attribute 'ad'",
     "output_type": "error",
     "traceback": [
      "\u001b[1;31m---------------------------------------------------------------------------\u001b[0m",
      "\u001b[1;31mAttributeError\u001b[0m                            Traceback (most recent call last)",
      "Cell \u001b[1;32mIn[14], line 3\u001b[0m\n\u001b[0;32m      1\u001b[0m \u001b[39mfor\u001b[39;00m i \u001b[39min\u001b[39;00m \u001b[39mrange\u001b[39m(steps):\n\u001b[0;32m      2\u001b[0m     \u001b[39mprint\u001b[39m(params)\n\u001b[1;32m----> 3\u001b[0m     grads \u001b[39m=\u001b[39m jax\u001b[39m.\u001b[39;49mgrad(cost_function)(params)\n\u001b[0;32m      4\u001b[0m     updates, opt_state \u001b[39m=\u001b[39m optimizer\u001b[39m.\u001b[39mupdate(grads, opt_state)\n\u001b[0;32m      5\u001b[0m     params \u001b[39m=\u001b[39m optax\u001b[39m.\u001b[39mapply_updates(params, updates)\n",
      "    \u001b[1;31m[... skipping hidden 10 frame]\u001b[0m\n",
      "File \u001b[1;32mc:\\Users\\luccas.marim\\Desktop\\qml04\\lib\\site-packages\\pennylane\\qnode.py:950\u001b[0m, in \u001b[0;36mQNode.__call__\u001b[1;34m(self, *args, **kwargs)\u001b[0m\n\u001b[0;32m    948\u001b[0m     \u001b[39mself\u001b[39m\u001b[39m.\u001b[39mexecute_kwargs\u001b[39m.\u001b[39mpop(\u001b[39m\"\u001b[39m\u001b[39mmode\u001b[39m\u001b[39m\"\u001b[39m)\n\u001b[0;32m    949\u001b[0m \u001b[39m# pylint: disable=unexpected-keyword-arg\u001b[39;00m\n\u001b[1;32m--> 950\u001b[0m res \u001b[39m=\u001b[39m qml\u001b[39m.\u001b[39mexecute(\n\u001b[0;32m    951\u001b[0m     [\u001b[39mself\u001b[39m\u001b[39m.\u001b[39mtape],\n\u001b[0;32m    952\u001b[0m     device\u001b[39m=\u001b[39m\u001b[39mself\u001b[39m\u001b[39m.\u001b[39mdevice,\n\u001b[0;32m    953\u001b[0m     gradient_fn\u001b[39m=\u001b[39m\u001b[39mself\u001b[39m\u001b[39m.\u001b[39mgradient_fn,\n\u001b[0;32m    954\u001b[0m     interface\u001b[39m=\u001b[39m\u001b[39mself\u001b[39m\u001b[39m.\u001b[39minterface,\n\u001b[0;32m    955\u001b[0m     gradient_kwargs\u001b[39m=\u001b[39m\u001b[39mself\u001b[39m\u001b[39m.\u001b[39mgradient_kwargs,\n\u001b[0;32m    956\u001b[0m     override_shots\u001b[39m=\u001b[39moverride_shots,\n\u001b[0;32m    957\u001b[0m     \u001b[39m*\u001b[39m\u001b[39m*\u001b[39m\u001b[39mself\u001b[39m\u001b[39m.\u001b[39mexecute_kwargs,\n\u001b[0;32m    958\u001b[0m )\n\u001b[0;32m    960\u001b[0m res \u001b[39m=\u001b[39m res[\u001b[39m0\u001b[39m]\n\u001b[0;32m    962\u001b[0m \u001b[39m# convert result to the interface in case the qfunc has no parameters\u001b[39;00m\n",
      "File \u001b[1;32mc:\\Users\\luccas.marim\\Desktop\\qml04\\lib\\site-packages\\pennylane\\interfaces\\execution.py:640\u001b[0m, in \u001b[0;36mexecute\u001b[1;34m(tapes, device, gradient_fn, interface, grad_on_execution, gradient_kwargs, cache, cachesize, max_diff, override_shots, expand_fn, max_expansion, device_batch_transform)\u001b[0m\n\u001b[0;32m    637\u001b[0m         \u001b[39mfrom\u001b[39;00m \u001b[39m.\u001b[39;00m\u001b[39mtorch\u001b[39;00m \u001b[39mimport\u001b[39;00m execute \u001b[39mas\u001b[39;00m _execute\n\u001b[0;32m    639\u001b[0m     \u001b[39melif\u001b[39;00m mapped_interface \u001b[39m==\u001b[39m \u001b[39m\"\u001b[39m\u001b[39mjax\u001b[39m\u001b[39m\"\u001b[39m:\n\u001b[1;32m--> 640\u001b[0m         _execute \u001b[39m=\u001b[39m _get_jax_execute_fn(interface, tapes)\n\u001b[0;32m    642\u001b[0m     res \u001b[39m=\u001b[39m _execute(\n\u001b[0;32m    643\u001b[0m         tapes, device, execute_fn, gradient_fn, gradient_kwargs, _n\u001b[39m=\u001b[39m\u001b[39m1\u001b[39m, max_diff\u001b[39m=\u001b[39mmax_diff\n\u001b[0;32m    644\u001b[0m     )\n\u001b[0;32m    646\u001b[0m \u001b[39mexcept\u001b[39;00m \u001b[39mImportError\u001b[39;00m \u001b[39mas\u001b[39;00m e:\n",
      "File \u001b[1;32mc:\\Users\\luccas.marim\\Desktop\\qml04\\lib\\site-packages\\pennylane\\interfaces\\execution.py:908\u001b[0m, in \u001b[0;36m_get_jax_execute_fn\u001b[1;34m(interface, tapes)\u001b[0m\n\u001b[0;32m    905\u001b[0m \u001b[39mif\u001b[39;00m interface \u001b[39m==\u001b[39m \u001b[39m\"\u001b[39m\u001b[39mjax\u001b[39m\u001b[39m\"\u001b[39m:\n\u001b[0;32m    906\u001b[0m     \u001b[39mfrom\u001b[39;00m \u001b[39m.\u001b[39;00m\u001b[39mjax\u001b[39;00m \u001b[39mimport\u001b[39;00m get_jax_interface_name\n\u001b[1;32m--> 908\u001b[0m     interface \u001b[39m=\u001b[39m get_jax_interface_name(tapes)\n\u001b[0;32m    910\u001b[0m \u001b[39mif\u001b[39;00m interface \u001b[39m==\u001b[39m \u001b[39m\"\u001b[39m\u001b[39mjax-jit\u001b[39m\u001b[39m\"\u001b[39m:\n\u001b[0;32m    911\u001b[0m     \u001b[39mif\u001b[39;00m qml\u001b[39m.\u001b[39mactive_return():\n",
      "File \u001b[1;32mc:\\Users\\luccas.marim\\Desktop\\qml04\\lib\\site-packages\\pennylane\\interfaces\\jax.py:70\u001b[0m, in \u001b[0;36mget_jax_interface_name\u001b[1;34m(tapes)\u001b[0m\n\u001b[0;32m     67\u001b[0m         \u001b[39mif\u001b[39;00m op \u001b[39mis\u001b[39;00m \u001b[39mnot\u001b[39;00m \u001b[39mNone\u001b[39;00m:\n\u001b[0;32m     68\u001b[0m             \u001b[39m# Some MeasurementProcess objects have op.obs=None\u001b[39;00m\n\u001b[0;32m     69\u001b[0m             \u001b[39mfor\u001b[39;00m param \u001b[39min\u001b[39;00m op\u001b[39m.\u001b[39mdata:\n\u001b[1;32m---> 70\u001b[0m                 \u001b[39mif\u001b[39;00m qml\u001b[39m.\u001b[39;49mmath\u001b[39m.\u001b[39;49mis_abstract(param):\n\u001b[0;32m     71\u001b[0m                     \u001b[39mreturn\u001b[39;00m \u001b[39m\"\u001b[39m\u001b[39mjax-jit\u001b[39m\u001b[39m\"\u001b[39m\n\u001b[0;32m     73\u001b[0m \u001b[39mreturn\u001b[39;00m \u001b[39m\"\u001b[39m\u001b[39mjax\u001b[39m\u001b[39m\"\u001b[39m\n",
      "File \u001b[1;32mc:\\Users\\luccas.marim\\Desktop\\qml04\\lib\\site-packages\\pennylane\\math\\utils.py:372\u001b[0m, in \u001b[0;36mis_abstract\u001b[1;34m(tensor, like)\u001b[0m\n\u001b[0;32m    366\u001b[0m \u001b[39mimport\u001b[39;00m \u001b[39mjax\u001b[39;00m\n\u001b[0;32m    367\u001b[0m \u001b[39mfrom\u001b[39;00m \u001b[39mjax\u001b[39;00m\u001b[39m.\u001b[39;00m\u001b[39minterpreters\u001b[39;00m\u001b[39m.\u001b[39;00m\u001b[39mpartial_eval\u001b[39;00m \u001b[39mimport\u001b[39;00m DynamicJaxprTracer\n\u001b[0;32m    369\u001b[0m \u001b[39mif\u001b[39;00m \u001b[39misinstance\u001b[39m(\n\u001b[0;32m    370\u001b[0m     tensor,\n\u001b[0;32m    371\u001b[0m     (\n\u001b[1;32m--> 372\u001b[0m         jax\u001b[39m.\u001b[39;49mad\u001b[39m.\u001b[39mJVPTracer,\n\u001b[0;32m    373\u001b[0m         jax\u001b[39m.\u001b[39minterpreters\u001b[39m.\u001b[39mbatching\u001b[39m.\u001b[39mBatchTracer,\n\u001b[0;32m    374\u001b[0m         jax\u001b[39m.\u001b[39minterpreters\u001b[39m.\u001b[39mpartial_eval\u001b[39m.\u001b[39mJaxprTracer,\n\u001b[0;32m    375\u001b[0m     ),\n\u001b[0;32m    376\u001b[0m ):\n\u001b[0;32m    377\u001b[0m     \u001b[39m# Tracer objects will be used when computing gradients or applying transforms.\u001b[39;00m\n\u001b[0;32m    378\u001b[0m     \u001b[39m# If the value of the tracer is known, it will contain a ConcreteArray.\u001b[39;00m\n\u001b[0;32m    379\u001b[0m     \u001b[39m# Otherwise, it will be abstract.\u001b[39;00m\n\u001b[0;32m    380\u001b[0m     \u001b[39mreturn\u001b[39;00m \u001b[39mnot\u001b[39;00m \u001b[39misinstance\u001b[39m(tensor\u001b[39m.\u001b[39maval, jax\u001b[39m.\u001b[39mcore\u001b[39m.\u001b[39mConcreteArray)\n\u001b[0;32m    382\u001b[0m \u001b[39mreturn\u001b[39;00m \u001b[39misinstance\u001b[39m(tensor, DynamicJaxprTracer)\n",
      "File \u001b[1;32mc:\\Users\\luccas.marim\\Desktop\\qml04\\lib\\site-packages\\jax\\_src\\deprecations.py:53\u001b[0m, in \u001b[0;36mdeprecation_getattr.<locals>.getattr\u001b[1;34m(name)\u001b[0m\n\u001b[0;32m     51\u001b[0m   warnings\u001b[39m.\u001b[39mwarn(message, \u001b[39mDeprecationWarning\u001b[39;00m, stacklevel\u001b[39m=\u001b[39m\u001b[39m2\u001b[39m)\n\u001b[0;32m     52\u001b[0m   \u001b[39mreturn\u001b[39;00m fn\n\u001b[1;32m---> 53\u001b[0m \u001b[39mraise\u001b[39;00m \u001b[39mAttributeError\u001b[39;00m(\u001b[39mf\u001b[39m\u001b[39m\"\u001b[39m\u001b[39mmodule \u001b[39m\u001b[39m{\u001b[39;00mmodule\u001b[39m!r}\u001b[39;00m\u001b[39m has no attribute \u001b[39m\u001b[39m{\u001b[39;00mname\u001b[39m!r}\u001b[39;00m\u001b[39m\"\u001b[39m)\n",
      "\u001b[1;31mAttributeError\u001b[0m: module 'jax' has no attribute 'ad'"
     ]
    }
   ],
   "source": [
    "for i in range(steps):\n",
    "    print(params)\n",
    "    grads = jax.grad(cost_function)(params)\n",
    "    updates, opt_state = optimizer.update(grads, opt_state)\n",
    "    params = optax.apply_updates(params, updates)\n",
    "    params = optimizer.step(cost_function, params)\n",
    "\n",
    "    # loss, grads = jax.value_and_grad(cost_function)(params)\n",
    "    # updates, opt_state = optimizer.update(grads, opt_state)\n",
    "    # params = optax.apply_updates(params, updates)\n",
    "    # params = optimizer.step(cost_function, params)\n",
    "\n",
    "# print(\"Optimal Parameters\")\n",
    "# print(params)"
   ]
  },
  {
   "cell_type": "code",
   "execution_count": null,
   "metadata": {},
   "outputs": [],
   "source": [
    "@qml.qnode(dev)\n",
    "def probability_circuit(gamma, alpha):\n",
    "    circuit([gamma, alpha])\n",
    "    return qml.probs(wires=wires)\n",
    "\n",
    "\n",
    "probs = probability_circuit(params[0], params[1])"
   ]
  },
  {
   "cell_type": "code",
   "execution_count": null,
   "metadata": {},
   "outputs": [
    {
     "name": "stderr",
     "output_type": "stream",
     "text": [
      "C:\\Users\\luccas.marim\\AppData\\Local\\Temp\\ipykernel_16560\\847613202.py:1: MatplotlibDeprecationWarning: The seaborn styles shipped by Matplotlib are deprecated since 3.6, as they no longer correspond to the styles shipped by seaborn. However, they will remain available as 'seaborn-v0_8-<style>'. Alternatively, directly use the seaborn API instead.\n",
      "  plt.style.use(\"seaborn\")\n"
     ]
    },
    {
     "data": {
      "image/png": "[encoded data removed]",
      "text/plain": [
       "<Figure size 800x550 with 1 Axes>"
      ]
     },
     "metadata": {},
     "output_type": "display_data"
    }
   ],
   "source": [
    "plt.style.use(\"seaborn\")\n",
    "plt.bar(range(2 ** len(wires)), probs)\n",
    "plt.show()"
   ]
  }
 ],
 "metadata": {
  "kernelspec": {
   "display_name": "qml04",
   "language": "python",
   "name": "python3"
  },
  "language_info": {
   "codemirror_mode": {
    "name": "ipython",
    "version": 3
   },
   "file_extension": ".py",
   "mimetype": "text/x-python",
   "name": "python",
   "nbconvert_exporter": "python",
   "pygments_lexer": "ipython3",
   "version": "3.10.11"
  },
  "orig_nbformat": 4
 },
 "nbformat": 4,
 "nbformat_minor": 2
}
