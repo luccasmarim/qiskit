{
 "cells": [
  {
   "cell_type": "code",
   "execution_count": 3,
   "metadata": {},
   "outputs": [],
   "source": [
    "import qiskit\n",
    "from qiskit import Aer, QuantumCircuit, execute, ClassicalRegister, QuantumRegister, BasicAer"
   ]
  },
  {
   "cell_type": "code",
   "execution_count": 11,
   "metadata": {},
   "outputs": [
    {
     "data": {
      "text/html": [
       "<pre style=\"word-wrap: normal;white-space: pre;background: #fff0;line-height: 1.1;font-family: &quot;Courier New&quot;,Courier,monospace\">             \n",
       "q_0: ──■─────\n",
       "       │     \n",
       "q_1: ──■─────\n",
       "     ┌─┴─┐┌─┐\n",
       "q_2: ┤ X ├┤M├\n",
       "     └───┘└╥┘\n",
       "  c: ══════╩═\n",
       "             </pre>"
      ],
      "text/plain": [
       "             \n",
       "q_0: ──■─────\n",
       "       │     \n",
       "q_1: ──■─────\n",
       "     ┌─┴─┐┌─┐\n",
       "q_2: ┤ X ├┤M├\n",
       "     └───┘└╥┘\n",
       "  c: ══════╩═\n",
       "             "
      ]
     },
     "execution_count": 11,
     "metadata": {},
     "output_type": "execute_result"
    }
   ],
   "source": [
    "#AND GATE\n",
    "qc = QuantumCircuit(3,1,name=\"qc\")\n",
    "qc.ccx(0,1,2)\n",
    "qc.measure(2,0)\n",
    "\n",
    "qc.draw()"
   ]
  },
  {
   "cell_type": "code",
   "execution_count": 23,
   "metadata": {},
   "outputs": [
    {
     "data": {
      "text/html": [
       "<pre style=\"word-wrap: normal;white-space: pre;background: #fff0;line-height: 1.1;font-family: &quot;Courier New&quot;,Courier,monospace\">                       \n",
       "q_0: ───────■────■─────\n",
       "            │    │     \n",
       "q_1: ──■────┼────■─────\n",
       "     ┌─┴─┐┌─┴─┐┌─┴─┐┌─┐\n",
       "q_2: ┤ X ├┤ X ├┤ X ├┤M├\n",
       "     └───┘└───┘└───┘└╥┘\n",
       "  c: ════════════════╩═\n",
       "                       </pre>"
      ],
      "text/plain": [
       "                       \n",
       "q_0: ───────■────■─────\n",
       "            │    │     \n",
       "q_1: ──■────┼────■─────\n",
       "     ┌─┴─┐┌─┴─┐┌─┴─┐┌─┐\n",
       "q_2: ┤ X ├┤ X ├┤ X ├┤M├\n",
       "     └───┘└───┘└───┘└╥┘\n",
       "  c: ════════════════╩═\n",
       "                       "
      ]
     },
     "execution_count": 23,
     "metadata": {},
     "output_type": "execute_result"
    }
   ],
   "source": [
    "#OR GATE\n",
    "qc = QuantumCircuit(3,1,name=\"qc\")\n",
    "qc.cx(1, 2)\n",
    "qc.cx(0, 2)\n",
    "qc.ccx(0, 1, 2)\n",
    "qc.measure(2, 0)\n",
    "\n",
    "qc.draw()"
   ]
  },
  {
   "cell_type": "code",
   "execution_count": 34,
   "metadata": {},
   "outputs": [
    {
     "data": {
      "text/html": [
       "<pre style=\"word-wrap: normal;white-space: pre;background: #fff0;line-height: 1.1;font-family: &quot;Courier New&quot;,Courier,monospace\">                  \n",
       "q_0: ───────■─────\n",
       "            │     \n",
       "q_1: ──■────┼─────\n",
       "     ┌─┴─┐┌─┴─┐┌─┐\n",
       "q_2: ┤ X ├┤ X ├┤M├\n",
       "     └───┘└───┘└╥┘\n",
       "  c: ═══════════╩═\n",
       "                  </pre>"
      ],
      "text/plain": [
       "                  \n",
       "q_0: ───────■─────\n",
       "            │     \n",
       "q_1: ──■────┼─────\n",
       "     ┌─┴─┐┌─┴─┐┌─┐\n",
       "q_2: ┤ X ├┤ X ├┤M├\n",
       "     └───┘└───┘└╥┘\n",
       "  c: ═══════════╩═\n",
       "                  "
      ]
     },
     "execution_count": 34,
     "metadata": {},
     "output_type": "execute_result"
    }
   ],
   "source": [
    "#XOR GATE\n",
    "qc = QuantumCircuit(3,1,name=\"qc\")\n",
    "qc.cx(1, 2)\n",
    "qc.cx(0, 2)\n",
    "qc.measure(2, 0)\n",
    "\n",
    "qc.draw()"
   ]
  },
  {
   "cell_type": "code",
   "execution_count": 35,
   "metadata": {},
   "outputs": [
    {
     "data": {
      "text/html": [
       "<pre style=\"word-wrap: normal;white-space: pre;background: #fff0;line-height: 1.1;font-family: &quot;Courier New&quot;,Courier,monospace\">                  \n",
       "q_0: ──■──────────\n",
       "       │          \n",
       "q_1: ──■──────────\n",
       "     ┌─┴─┐┌───┐┌─┐\n",
       "q_2: ┤ X ├┤ X ├┤M├\n",
       "     └───┘└───┘└╥┘\n",
       "  c: ═══════════╩═\n",
       "                  </pre>"
      ],
      "text/plain": [
       "                  \n",
       "q_0: ──■──────────\n",
       "       │          \n",
       "q_1: ──■──────────\n",
       "     ┌─┴─┐┌───┐┌─┐\n",
       "q_2: ┤ X ├┤ X ├┤M├\n",
       "     └───┘└───┘└╥┘\n",
       "  c: ═══════════╩═\n",
       "                  "
      ]
     },
     "execution_count": 35,
     "metadata": {},
     "output_type": "execute_result"
    }
   ],
   "source": [
    "#NAND GATE\n",
    "qc = QuantumCircuit(3,1,name=\"qc\")\n",
    "qc.ccx(0, 1, 2)\n",
    "qc.x(2)\n",
    "qc.measure(2, 0)\n",
    "\n",
    "qc.draw()"
   ]
  },
  {
   "cell_type": "code",
   "execution_count": 11,
   "metadata": {},
   "outputs": [
    {
     "data": {
      "text/html": [
       "<pre style=\"word-wrap: normal;white-space: pre;background: #fff0;line-height: 1.1;font-family: &quot;Courier New&quot;,Courier,monospace\">     ┌───┐ ░            ░       ░       \n",
       "q_0: ┤ X ├─░────────■───░───■───░───────\n",
       "     └───┘ ░        │   ░   │   ░       \n",
       "q_1: ──────░───■────┼───░───■───░───────\n",
       "           ░ ┌─┴─┐┌─┴─┐ ░   │   ░ ┌─┐   \n",
       "q_2: ──────░─┤ X ├┤ X ├─░───┼───░─┤M├───\n",
       "           ░ └───┘└───┘ ░ ┌─┴─┐ ░ └╥┘┌─┐\n",
       "q_3: ──────░────────────░─┤ X ├─░──╫─┤M├\n",
       "           ░            ░ └───┘ ░  ║ └╥┘\n",
       "c_0: ══════════════════════════════╩══╬═\n",
       "                                      ║ \n",
       "c_1: ═════════════════════════════════╩═\n",
       "                                        </pre>"
      ],
      "text/plain": [
       "     ┌───┐ ░            ░       ░       \n",
       "q_0: ┤ X ├─░────────■───░───■───░───────\n",
       "     └───┘ ░        │   ░   │   ░       \n",
       "q_1: ──────░───■────┼───░───■───░───────\n",
       "           ░ ┌─┴─┐┌─┴─┐ ░   │   ░ ┌─┐   \n",
       "q_2: ──────░─┤ X ├┤ X ├─░───┼───░─┤M├───\n",
       "           ░ └───┘└───┘ ░ ┌─┴─┐ ░ └╥┘┌─┐\n",
       "q_3: ──────░────────────░─┤ X ├─░──╫─┤M├\n",
       "           ░            ░ └───┘ ░  ║ └╥┘\n",
       "c_0: ══════════════════════════════╩══╬═\n",
       "                                      ║ \n",
       "c_1: ═════════════════════════════════╩═\n",
       "                                        "
      ]
     },
     "execution_count": 11,
     "metadata": {},
     "output_type": "execute_result"
    }
   ],
   "source": [
    "# Half Adder Circuit\n",
    "qc = QuantumCircuit(4,2,name=\"qc\")\n",
    "qc.cx(1, 2)\n",
    "qc.cx(0, 2)\n",
    "qc.barrier()\n",
    "qc.ccx(0, 1, 3)\n",
    "qc.barrier()\n",
    "qc.measure(2, 0)\n",
    "qc.measure(3, 1)\n",
    "\n",
    "qc.draw()"
   ]
  },
  {
   "cell_type": "code",
   "execution_count": 12,
   "metadata": {},
   "outputs": [
    {
     "name": "stdout",
     "output_type": "stream",
     "text": [
      "{'01': 1000}\n"
     ]
    }
   ],
   "source": [
    "backend = Aer.get_backend('qasm_simulator')\n",
    "job = execute(qc, backend, shots=1000)\n",
    "result = job.result()\n",
    "counts = result.get_counts(qc)\n",
    "print(counts)"
   ]
  }
 ],
 "metadata": {
  "kernelspec": {
   "display_name": "Python 3",
   "language": "python",
   "name": "python3"
  },
  "language_info": {
   "codemirror_mode": {
    "name": "ipython",
    "version": 3
   },
   "file_extension": ".py",
   "mimetype": "text/x-python",
   "name": "python",
   "nbconvert_exporter": "python",
   "pygments_lexer": "ipython3",
   "version": "3.10.9 (tags/v3.10.9:1dd9be6, Dec  6 2022, 20:01:21) [MSC v.1934 64 bit (AMD64)]"
  },
  "orig_nbformat": 4,
  "vscode": {
   "interpreter": {
    "hash": "80837a4672544e46fe839ae4efecdae0cdba0f2c8053ddc757ba48375af0fa87"
   }
  }
 },
 "nbformat": 4,
 "nbformat_minor": 2
}
