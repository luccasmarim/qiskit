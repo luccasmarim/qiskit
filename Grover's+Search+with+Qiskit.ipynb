{
 "cells": [
  {
   "cell_type": "markdown",
   "id": "inappropriate-reservoir",
   "metadata": {},
   "source": [
    "# Grover's Search with Qiskit"
   ]
  },
  {
   "cell_type": "markdown",
   "id": "extreme-indian",
   "metadata": {},
   "source": [
    "## Importing necessary libraries "
   ]
  },
  {
   "cell_type": "code",
   "execution_count": 1,
   "id": "complimentary-christianity",
   "metadata": {},
   "outputs": [],
   "source": [
    "from qiskit.quantum_info import Operator\n",
    "from qiskit import QuantumRegister, ClassicalRegister, QuantumCircuit, execute, Aer\n",
    "from qiskit.visualization import plot_histogram"
   ]
  },
  {
   "cell_type": "markdown",
   "id": "informed-privacy",
   "metadata": {},
   "source": [
    "## Making a 2 Qubit Grover's Oracle marking |01> State"
   ]
  },
  {
   "cell_type": "markdown",
   "id": "natural-communication",
   "metadata": {},
   "source": [
    "It is important to note that the Operator function uses our ordering system, therefore when visualizing our probability histograms, we do not need to reverse the ordering of the qubits. "
   ]
  },
  {
   "cell_type": "markdown",
   "id": "approved-federation",
   "metadata": {},
   "source": [
    "Experiment by marking the other states as well - |00>, |10> and |11>"
   ]
  },
  {
   "cell_type": "code",
   "execution_count": 2,
   "id": "massive-block",
   "metadata": {},
   "outputs": [],
   "source": [
    "U = Operator([[1,0,0,0], [0,-1,0,0], [0,0,1,0], [0,0,0,1]])"
   ]
  },
  {
   "cell_type": "code",
   "execution_count": 3,
   "id": "temporal-vacuum",
   "metadata": {},
   "outputs": [
    {
     "name": "stdout",
     "output_type": "stream",
     "text": [
      "Operator([[ 1.+0.j,  0.+0.j,  0.+0.j,  0.+0.j],\n",
      "          [ 0.+0.j, -1.+0.j,  0.+0.j,  0.+0.j],\n",
      "          [ 0.+0.j,  0.+0.j,  1.+0.j,  0.+0.j],\n",
      "          [ 0.+0.j,  0.+0.j,  0.+0.j,  1.+0.j]],\n",
      "         input_dims=(2, 2), output_dims=(2, 2))\n"
     ]
    }
   ],
   "source": [
    "print(U)"
   ]
  },
  {
   "cell_type": "code",
   "execution_count": 4,
   "id": "premier-productivity",
   "metadata": {},
   "outputs": [
    {
     "data": {
      "image/png": "[encoded data removed]",
      "text/plain": [
       "<Figure size 327.252x204.68 with 1 Axes>"
      ]
     },
     "execution_count": 4,
     "metadata": {},
     "output_type": "execute_result"
    }
   ],
   "source": [
    "qr = QuantumRegister(2, 'q')\n",
    "cr = ClassicalRegister(2, 'c')\n",
    "\n",
    "qcirc = QuantumCircuit(2, 2, name = 'qc')\n",
    "qcirc.append(U, qr)\n",
    "for i in range(len(qr)):\n",
    "    qcirc.measure(qr[i], cr[i])\n",
    "qcirc.draw('mpl')"
   ]
  },
  {
   "cell_type": "code",
   "execution_count": 5,
   "id": "general-forge",
   "metadata": {},
   "outputs": [
    {
     "data": {
      "image/png": "[encoded data removed]",
      "text/plain": [
       "<Figure size 447.652x204.68 with 1 Axes>"
      ]
     },
     "execution_count": 5,
     "metadata": {},
     "output_type": "execute_result"
    }
   ],
   "source": [
    "# Decomposing the Oracle into unitary gates\n",
    "\n",
    "qcirc_decompose = qcirc.decompose()\n",
    "qcirc_decompose.draw('mpl')"
   ]
  },
  {
   "cell_type": "markdown",
   "id": "beautiful-prompt",
   "metadata": {},
   "source": [
    "The decomposition of a 4x4 Unitary is based on this paper - https://arxiv.org/abs/0806.4015\n",
    "This paper describes the KAK decomposition method which uses optimal number of CNOT gates"
   ]
  },
  {
   "cell_type": "markdown",
   "id": "found-classroom",
   "metadata": {},
   "source": [
    "## Check if Operator is Unitary"
   ]
  },
  {
   "cell_type": "code",
   "execution_count": 6,
   "id": "first-atlas",
   "metadata": {},
   "outputs": [
    {
     "data": {
      "text/plain": [
       "True"
      ]
     },
     "execution_count": 6,
     "metadata": {},
     "output_type": "execute_result"
    }
   ],
   "source": [
    "U.is_unitary()"
   ]
  },
  {
   "cell_type": "markdown",
   "id": "electoral-peeing",
   "metadata": {},
   "source": [
    "## Constructing our Grover's Algorithm Circuit"
   ]
  },
  {
   "cell_type": "code",
   "execution_count": 7,
   "id": "seasonal-milwaukee",
   "metadata": {},
   "outputs": [
    {
     "data": {
      "image/png": "[encoded data removed]",
      "text/plain": [
       "<Figure size 989.452x204.68 with 1 Axes>"
      ]
     },
     "execution_count": 7,
     "metadata": {},
     "output_type": "execute_result"
    }
   ],
   "source": [
    "# Number of Qubits \n",
    "num_qubits = 2\n",
    "\n",
    "# Defining Quantum, Classical Registers and Quantum Circuit \n",
    "qr = QuantumRegister(num_qubits, 'q')\n",
    "cr = ClassicalRegister(num_qubits, 'c')\n",
    "\n",
    "qcirc = QuantumCircuit(qr, cr)\n",
    "\n",
    "# Step 1 - Applying Hadamard Gates to all the Qubits\n",
    "for i in range(num_qubits):\n",
    "    qcirc.h(i)\n",
    "\n",
    "qcirc.barrier()\n",
    "\n",
    "# Step 2 - Applying the Grover's Oracle Operator\n",
    "qcirc.append(U, qr)\n",
    "\n",
    "qcirc.barrier()\n",
    "\n",
    "# Step 3 - Grover's Diffusion Circuit \n",
    "for qubit in range(num_qubits):\n",
    "    qcirc.h(qubit)\n",
    "for qubit in range(num_qubits):\n",
    "    qcirc.x(qubit)\n",
    "qcirc.h(num_qubits-1)\n",
    "qcirc.mct(list(range(num_qubits-1)), num_qubits-1)\n",
    "qcirc.h(num_qubits-1)\n",
    "for qubit in range(num_qubits):\n",
    "    qcirc.x(qubit)\n",
    "for qubit in range(num_qubits):\n",
    "    qcirc.h(qubit)\n",
    "    \n",
    "qcirc.barrier()\n",
    "\n",
    "# Measuring all the Qubits \n",
    "qcirc.measure([0,1],[0,1])\n",
    "\n",
    "# Visualizing the Grover's Circuit \n",
    "qcirc.draw('mpl')"
   ]
  },
  {
   "cell_type": "markdown",
   "id": "strange-paste",
   "metadata": {},
   "source": [
    "## Simulating 2 Qubit Grover's Circuit"
   ]
  },
  {
   "cell_type": "code",
   "execution_count": 8,
   "id": "historical-estimate",
   "metadata": {},
   "outputs": [
    {
     "name": "stdout",
     "output_type": "stream",
     "text": [
      "\n",
      "Total counts are: {'01': 1000}\n"
     ]
    },
    {
     "data": {
      "image/png": "[encoded data removed]",
      "text/plain": [
       "<Figure size 504x360 with 1 Axes>"
      ]
     },
     "execution_count": 8,
     "metadata": {},
     "output_type": "execute_result"
    }
   ],
   "source": [
    "# Use Aer's qasm_simulator\n",
    "backend = Aer.get_backend('qasm_simulator')\n",
    "\n",
    "# Execute the circuit on the qasm simulator\n",
    "job = execute(qcirc, backend, shots=1000)\n",
    "\n",
    "# Grab results from the job\n",
    "result = job.result()\n",
    "\n",
    "# Returns counts\n",
    "counts = result.get_counts(qcirc)\n",
    "print(\"\\nTotal counts are:\",counts)\n",
    "\n",
    "# Plot a histogram\n",
    "plot_histogram(counts)"
   ]
  },
  {
   "cell_type": "markdown",
   "id": "prerequisite-bandwidth",
   "metadata": {},
   "source": [
    "As can be seen from the results we have indeed attained our marked state |01> and due to the Operator function ordering, we do not need to reverse the ordering of the qubits here. We get the exact ordering which we want. "
   ]
  },
  {
   "cell_type": "markdown",
   "id": "color-management",
   "metadata": {},
   "source": [
    "## Making a 3 Qubit Grover's Oracle marking |101> and |110> States"
   ]
  },
  {
   "cell_type": "markdown",
   "id": "wrong-technology",
   "metadata": {},
   "source": [
    "Experiment with the code by marking different 2 states. If you mark 3 states together then you will observe that the algorithm is able to find the 3 states with higher probabilities in only 1 iteration of oracle+diffusion. Experiment marking any 3 states as well! \n",
    "\n",
    "If you mark 4 or more states then, let's say you mark all the states negative except the |000> state, the you will find that the algorithm actually takes the |000> as the marked state and gives it highest probability of occurence. "
   ]
  },
  {
   "cell_type": "code",
   "execution_count": 9,
   "id": "excess-ferry",
   "metadata": {},
   "outputs": [],
   "source": [
    "U_3 = Operator([[1,0,0,0,0,0,0,0], \n",
    "                [0,1,0,0,0,0,0,0], \n",
    "                [0,0,1,0,0,0,0,0], \n",
    "                [0,0,0,1,0,0,0,0],\n",
    "                [0,0,0,0,1,0,0,0],\n",
    "                [0,0,0,0,0,-1,0,0],\n",
    "                [0,0,0,0,0,0,-1,0],\n",
    "                [0,0,0,0,0,0,0,1]])"
   ]
  },
  {
   "cell_type": "code",
   "execution_count": 10,
   "id": "based-competition",
   "metadata": {},
   "outputs": [
    {
     "name": "stdout",
     "output_type": "stream",
     "text": [
      "Operator([[ 1.+0.j,  0.+0.j,  0.+0.j,  0.+0.j,  0.+0.j,  0.+0.j,  0.+0.j,\n",
      "            0.+0.j],\n",
      "          [ 0.+0.j,  1.+0.j,  0.+0.j,  0.+0.j,  0.+0.j,  0.+0.j,  0.+0.j,\n",
      "            0.+0.j],\n",
      "          [ 0.+0.j,  0.+0.j,  1.+0.j,  0.+0.j,  0.+0.j,  0.+0.j,  0.+0.j,\n",
      "            0.+0.j],\n",
      "          [ 0.+0.j,  0.+0.j,  0.+0.j,  1.+0.j,  0.+0.j,  0.+0.j,  0.+0.j,\n",
      "            0.+0.j],\n",
      "          [ 0.+0.j,  0.+0.j,  0.+0.j,  0.+0.j,  1.+0.j,  0.+0.j,  0.+0.j,\n",
      "            0.+0.j],\n",
      "          [ 0.+0.j,  0.+0.j,  0.+0.j,  0.+0.j,  0.+0.j, -1.+0.j,  0.+0.j,\n",
      "            0.+0.j],\n",
      "          [ 0.+0.j,  0.+0.j,  0.+0.j,  0.+0.j,  0.+0.j,  0.+0.j, -1.+0.j,\n",
      "            0.+0.j],\n",
      "          [ 0.+0.j,  0.+0.j,  0.+0.j,  0.+0.j,  0.+0.j,  0.+0.j,  0.+0.j,\n",
      "            1.+0.j]],\n",
      "         input_dims=(2, 2, 2), output_dims=(2, 2, 2))\n"
     ]
    }
   ],
   "source": [
    "print(U_3)"
   ]
  },
  {
   "cell_type": "code",
   "execution_count": 11,
   "id": "second-password",
   "metadata": {},
   "outputs": [
    {
     "data": {
      "image/png": "[encoded data removed]",
      "text/plain": [
       "<Figure size 387.597x264.88 with 1 Axes>"
      ]
     },
     "execution_count": 11,
     "metadata": {},
     "output_type": "execute_result"
    }
   ],
   "source": [
    "qr = QuantumRegister(3, 'q')\n",
    "cr = ClassicalRegister(3, 'c')\n",
    "\n",
    "qcirc = QuantumCircuit(qr, cr)\n",
    "qcirc.append(U_3, qr)\n",
    "for i in range(len(qr)):\n",
    "    qcirc.measure(qr[i], cr[i])\n",
    "qcirc.draw('mpl')"
   ]
  },
  {
   "cell_type": "code",
   "execution_count": 12,
   "id": "spoken-dubai",
   "metadata": {},
   "outputs": [
    {
     "data": {
      "image/png": "[encoded data removed]",
      "text/plain": [
       "<Figure size 387.597x264.88 with 1 Axes>"
      ]
     },
     "execution_count": 12,
     "metadata": {},
     "output_type": "execute_result"
    }
   ],
   "source": [
    "# Decomposing the Oracle into unitary gates\n",
    "\n",
    "qcirc_decompose = qcirc.decompose()\n",
    "qcirc_decompose.draw('mpl')"
   ]
  },
  {
   "cell_type": "markdown",
   "id": "statutory-spray",
   "metadata": {},
   "source": [
    "For the decomposition of unitaries above 4x4, the isometry class from Qiskit is utilized which is implemented based on this paper - https://arxiv.org/abs/1501.06911\n",
    "The paper describes a method which is able to achieve a theoretical lower bound on the number of CNOT gates used. "
   ]
  },
  {
   "cell_type": "markdown",
   "id": "improving-subdivision",
   "metadata": {},
   "source": [
    "## Check if U_3 is Unitary"
   ]
  },
  {
   "cell_type": "code",
   "execution_count": 13,
   "id": "bacterial-punishment",
   "metadata": {},
   "outputs": [
    {
     "data": {
      "text/plain": [
       "True"
      ]
     },
     "execution_count": 13,
     "metadata": {},
     "output_type": "execute_result"
    }
   ],
   "source": [
    "U_3.is_unitary()"
   ]
  },
  {
   "cell_type": "markdown",
   "id": "silent-pickup",
   "metadata": {},
   "source": [
    "## Constructing our Grover's Algorithm Circuit"
   ]
  },
  {
   "cell_type": "code",
   "execution_count": 14,
   "id": "clean-baltimore",
   "metadata": {},
   "outputs": [
    {
     "data": {
      "image/png": "[encoded data removed]",
      "text/plain": [
       "<Figure size 1049.8x264.88 with 1 Axes>"
      ]
     },
     "execution_count": 14,
     "metadata": {},
     "output_type": "execute_result"
    }
   ],
   "source": [
    "# Number of Qubits\n",
    "num_qubits = 3\n",
    "\n",
    "# Defining Quantum, Classical Registers and Quantum Circuit \n",
    "qr = QuantumRegister(num_qubits, 'q')\n",
    "cr = ClassicalRegister(num_qubits, 'c')\n",
    "\n",
    "qcirc = QuantumCircuit(qr, cr)\n",
    "\n",
    "# Step 1 - Applying Hadamard Gates to all the Qubits\n",
    "for i in range(num_qubits):\n",
    "    qcirc.h(i)\n",
    "\n",
    "qcirc.barrier()\n",
    "\n",
    "# Step 2 - Applying the Grover's Oracle Operator\n",
    "qcirc.append(U_3, qr)\n",
    "\n",
    "qcirc.barrier()\n",
    "\n",
    "# Step 3 - Grover's Diffusion Circuit\n",
    "for qubit in range(num_qubits):\n",
    "    qcirc.h(qubit)\n",
    "for qubit in range(num_qubits):\n",
    "    qcirc.x(qubit)\n",
    "qcirc.h(num_qubits-1)\n",
    "qcirc.mct(list(range(num_qubits-1)), num_qubits-1)\n",
    "qcirc.h(num_qubits-1)\n",
    "for qubit in range(num_qubits):\n",
    "    qcirc.x(qubit)\n",
    "for qubit in range(num_qubits):\n",
    "    qcirc.h(qubit)\n",
    "    \n",
    "qcirc.barrier()\n",
    "\n",
    "# Measuring all the Qubits\n",
    "qcirc.measure([0,1,2],[0,1,2])\n",
    "\n",
    "# Visualizing the Grover's Circuit\n",
    "qcirc.draw('mpl')"
   ]
  },
  {
   "cell_type": "markdown",
   "id": "similar-oracle",
   "metadata": {},
   "source": [
    "## Simulating 3 Qubit Grover's Circuit"
   ]
  },
  {
   "cell_type": "code",
   "execution_count": 15,
   "id": "under-seattle",
   "metadata": {},
   "outputs": [
    {
     "name": "stdout",
     "output_type": "stream",
     "text": [
      "\n",
      "Total counts are: {'101': 504, '110': 496}\n"
     ]
    },
    {
     "data": {
      "image/png": "[encoded data removed]",
      "text/plain": [
       "<Figure size 504x360 with 1 Axes>"
      ]
     },
     "execution_count": 15,
     "metadata": {},
     "output_type": "execute_result"
    }
   ],
   "source": [
    "# Use Aer's qasm_simulator\n",
    "backend = Aer.get_backend('qasm_simulator')\n",
    "\n",
    "# Execute the circuit on the qasm simulator\n",
    "job = execute(qcirc, backend, shots=1000)\n",
    "\n",
    "# Grab results from the job\n",
    "result = job.result()\n",
    "\n",
    "# Returns counts\n",
    "counts = result.get_counts(qcirc)\n",
    "print(\"\\nTotal counts are:\",counts)\n",
    "\n",
    "# Plot a histogram\n",
    "plot_histogram(counts)"
   ]
  },
  {
   "cell_type": "code",
   "execution_count": null,
   "id": "british-grenada",
   "metadata": {},
   "outputs": [],
   "source": []
  }
 ],
 "metadata": {
  "kernelspec": {
   "display_name": "Python 3",
   "language": "python",
   "name": "python3"
  },
  "language_info": {
   "codemirror_mode": {
    "name": "ipython",
    "version": 3
   },
   "file_extension": ".py",
   "mimetype": "text/x-python",
   "name": "python",
   "nbconvert_exporter": "python",
   "pygments_lexer": "ipython3",
   "version": "3.8.8"
  }
 },
 "nbformat": 4,
 "nbformat_minor": 5
}
